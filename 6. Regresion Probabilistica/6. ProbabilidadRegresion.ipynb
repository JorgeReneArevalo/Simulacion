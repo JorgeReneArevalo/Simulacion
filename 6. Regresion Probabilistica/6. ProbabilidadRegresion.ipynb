{
 "cells": [
  {
   "cell_type": "markdown",
   "metadata": {},
   "source": [
    "### Nombre: Jorge Arévalo\n",
    "### Docente: Ing. Diego Quisi\n",
    "### Materia: Simulación"
   ]
  },
  {
   "cell_type": "markdown",
   "metadata": {},
   "source": [
    "# Covid-19 infección en Ecuador. Modelos probabilisticos\n",
    "Implementacion de un modelo probabilistico de infección por el virus Covid-19\n",
    "\n",
    "Se realiza un análisis probabilistico simple del crecimiento de la infección en Python y el modelos para comprender mejor la evolución de la infección.\n",
    "\n",
    "Se crea modelos de series temporales del número total de personas infectadas hasta la fecha (es decir, las personas realmente infectadas más las personas que han sido infectadas). Estos modelos tienen parámetros , que se estimarán por ajuste de probabilidad."
   ]
  },
  {
   "cell_type": "code",
   "execution_count": 37,
   "metadata": {},
   "outputs": [],
   "source": [
    "# Importar las librerias para el analasis\n",
    "import pandas as pd\n",
    "import numpy as np\n",
    "from datetime import datetime,timedelta\n",
    "from sklearn.metrics import mean_squared_error\n",
    "from scipy.optimize import curve_fit\n",
    "from scipy.optimize import fsolve\n",
    "from sklearn import linear_model\n",
    "import matplotlib.pyplot as plt\n",
    "%matplotlib inline\n"
   ]
  },
  {
   "cell_type": "code",
   "execution_count": 38,
   "metadata": {},
   "outputs": [
    {
     "data": {
      "text/html": [
       "<div>\n",
       "<style scoped>\n",
       "    .dataframe tbody tr th:only-of-type {\n",
       "        vertical-align: middle;\n",
       "    }\n",
       "\n",
       "    .dataframe tbody tr th {\n",
       "        vertical-align: top;\n",
       "    }\n",
       "\n",
       "    .dataframe thead th {\n",
       "        text-align: right;\n",
       "    }\n",
       "</style>\n",
       "<table border=\"1\" class=\"dataframe\">\n",
       "  <thead>\n",
       "    <tr style=\"text-align: right;\">\n",
       "      <th></th>\n",
       "      <th>date</th>\n",
       "      <th>World</th>\n",
       "      <th>Afghanistan</th>\n",
       "      <th>Albania</th>\n",
       "      <th>Algeria</th>\n",
       "      <th>Andorra</th>\n",
       "      <th>Angola</th>\n",
       "      <th>Anguilla</th>\n",
       "      <th>Antigua and Barbuda</th>\n",
       "      <th>Argentina</th>\n",
       "      <th>...</th>\n",
       "      <th>Uzbekistan</th>\n",
       "      <th>Vanuatu</th>\n",
       "      <th>Vatican</th>\n",
       "      <th>Venezuela</th>\n",
       "      <th>Vietnam</th>\n",
       "      <th>Wallis and Futuna</th>\n",
       "      <th>Western Sahara</th>\n",
       "      <th>Yemen</th>\n",
       "      <th>Zambia</th>\n",
       "      <th>Zimbabwe</th>\n",
       "    </tr>\n",
       "  </thead>\n",
       "  <tbody>\n",
       "    <tr>\n",
       "      <th>0</th>\n",
       "      <td>2019-12-31</td>\n",
       "      <td>27</td>\n",
       "      <td>0.0</td>\n",
       "      <td>NaN</td>\n",
       "      <td>0.0</td>\n",
       "      <td>NaN</td>\n",
       "      <td>NaN</td>\n",
       "      <td>NaN</td>\n",
       "      <td>NaN</td>\n",
       "      <td>NaN</td>\n",
       "      <td>...</td>\n",
       "      <td>NaN</td>\n",
       "      <td>NaN</td>\n",
       "      <td>NaN</td>\n",
       "      <td>NaN</td>\n",
       "      <td>0.0</td>\n",
       "      <td>NaN</td>\n",
       "      <td>NaN</td>\n",
       "      <td>NaN</td>\n",
       "      <td>NaN</td>\n",
       "      <td>NaN</td>\n",
       "    </tr>\n",
       "    <tr>\n",
       "      <th>1</th>\n",
       "      <td>2020-01-01</td>\n",
       "      <td>0</td>\n",
       "      <td>0.0</td>\n",
       "      <td>NaN</td>\n",
       "      <td>0.0</td>\n",
       "      <td>NaN</td>\n",
       "      <td>NaN</td>\n",
       "      <td>NaN</td>\n",
       "      <td>NaN</td>\n",
       "      <td>NaN</td>\n",
       "      <td>...</td>\n",
       "      <td>NaN</td>\n",
       "      <td>NaN</td>\n",
       "      <td>NaN</td>\n",
       "      <td>NaN</td>\n",
       "      <td>0.0</td>\n",
       "      <td>NaN</td>\n",
       "      <td>NaN</td>\n",
       "      <td>NaN</td>\n",
       "      <td>NaN</td>\n",
       "      <td>NaN</td>\n",
       "    </tr>\n",
       "    <tr>\n",
       "      <th>2</th>\n",
       "      <td>2020-01-02</td>\n",
       "      <td>0</td>\n",
       "      <td>0.0</td>\n",
       "      <td>NaN</td>\n",
       "      <td>0.0</td>\n",
       "      <td>NaN</td>\n",
       "      <td>NaN</td>\n",
       "      <td>NaN</td>\n",
       "      <td>NaN</td>\n",
       "      <td>NaN</td>\n",
       "      <td>...</td>\n",
       "      <td>NaN</td>\n",
       "      <td>NaN</td>\n",
       "      <td>NaN</td>\n",
       "      <td>NaN</td>\n",
       "      <td>0.0</td>\n",
       "      <td>NaN</td>\n",
       "      <td>NaN</td>\n",
       "      <td>NaN</td>\n",
       "      <td>NaN</td>\n",
       "      <td>NaN</td>\n",
       "    </tr>\n",
       "    <tr>\n",
       "      <th>3</th>\n",
       "      <td>2020-01-03</td>\n",
       "      <td>17</td>\n",
       "      <td>0.0</td>\n",
       "      <td>NaN</td>\n",
       "      <td>0.0</td>\n",
       "      <td>NaN</td>\n",
       "      <td>NaN</td>\n",
       "      <td>NaN</td>\n",
       "      <td>NaN</td>\n",
       "      <td>NaN</td>\n",
       "      <td>...</td>\n",
       "      <td>NaN</td>\n",
       "      <td>NaN</td>\n",
       "      <td>NaN</td>\n",
       "      <td>NaN</td>\n",
       "      <td>0.0</td>\n",
       "      <td>NaN</td>\n",
       "      <td>NaN</td>\n",
       "      <td>NaN</td>\n",
       "      <td>NaN</td>\n",
       "      <td>NaN</td>\n",
       "    </tr>\n",
       "    <tr>\n",
       "      <th>4</th>\n",
       "      <td>2020-01-04</td>\n",
       "      <td>0</td>\n",
       "      <td>0.0</td>\n",
       "      <td>NaN</td>\n",
       "      <td>0.0</td>\n",
       "      <td>NaN</td>\n",
       "      <td>NaN</td>\n",
       "      <td>NaN</td>\n",
       "      <td>NaN</td>\n",
       "      <td>NaN</td>\n",
       "      <td>...</td>\n",
       "      <td>NaN</td>\n",
       "      <td>NaN</td>\n",
       "      <td>NaN</td>\n",
       "      <td>NaN</td>\n",
       "      <td>0.0</td>\n",
       "      <td>NaN</td>\n",
       "      <td>NaN</td>\n",
       "      <td>NaN</td>\n",
       "      <td>NaN</td>\n",
       "      <td>NaN</td>\n",
       "    </tr>\n",
       "    <tr>\n",
       "      <th>...</th>\n",
       "      <td>...</td>\n",
       "      <td>...</td>\n",
       "      <td>...</td>\n",
       "      <td>...</td>\n",
       "      <td>...</td>\n",
       "      <td>...</td>\n",
       "      <td>...</td>\n",
       "      <td>...</td>\n",
       "      <td>...</td>\n",
       "      <td>...</td>\n",
       "      <td>...</td>\n",
       "      <td>...</td>\n",
       "      <td>...</td>\n",
       "      <td>...</td>\n",
       "      <td>...</td>\n",
       "      <td>...</td>\n",
       "      <td>...</td>\n",
       "      <td>...</td>\n",
       "      <td>...</td>\n",
       "      <td>...</td>\n",
       "      <td>...</td>\n",
       "    </tr>\n",
       "    <tr>\n",
       "      <th>319</th>\n",
       "      <td>2020-11-14</td>\n",
       "      <td>634423</td>\n",
       "      <td>66.0</td>\n",
       "      <td>490.0</td>\n",
       "      <td>867.0</td>\n",
       "      <td>109.0</td>\n",
       "      <td>104.0</td>\n",
       "      <td>0.0</td>\n",
       "      <td>2.0</td>\n",
       "      <td>11859.0</td>\n",
       "      <td>...</td>\n",
       "      <td>63.0</td>\n",
       "      <td>0.0</td>\n",
       "      <td>0.0</td>\n",
       "      <td>0.0</td>\n",
       "      <td>3.0</td>\n",
       "      <td>0.0</td>\n",
       "      <td>0.0</td>\n",
       "      <td>2.0</td>\n",
       "      <td>57.0</td>\n",
       "      <td>69.0</td>\n",
       "    </tr>\n",
       "    <tr>\n",
       "      <th>320</th>\n",
       "      <td>2020-11-15</td>\n",
       "      <td>597736</td>\n",
       "      <td>205.0</td>\n",
       "      <td>532.0</td>\n",
       "      <td>844.0</td>\n",
       "      <td>0.0</td>\n",
       "      <td>171.0</td>\n",
       "      <td>0.0</td>\n",
       "      <td>1.0</td>\n",
       "      <td>8468.0</td>\n",
       "      <td>...</td>\n",
       "      <td>0.0</td>\n",
       "      <td>0.0</td>\n",
       "      <td>0.0</td>\n",
       "      <td>301.0</td>\n",
       "      <td>9.0</td>\n",
       "      <td>0.0</td>\n",
       "      <td>0.0</td>\n",
       "      <td>0.0</td>\n",
       "      <td>4.0</td>\n",
       "      <td>21.0</td>\n",
       "    </tr>\n",
       "    <tr>\n",
       "      <th>321</th>\n",
       "      <td>2020-11-16</td>\n",
       "      <td>504453</td>\n",
       "      <td>163.0</td>\n",
       "      <td>597.0</td>\n",
       "      <td>860.0</td>\n",
       "      <td>147.0</td>\n",
       "      <td>146.0</td>\n",
       "      <td>0.0</td>\n",
       "      <td>0.0</td>\n",
       "      <td>5645.0</td>\n",
       "      <td>...</td>\n",
       "      <td>563.0</td>\n",
       "      <td>0.0</td>\n",
       "      <td>0.0</td>\n",
       "      <td>911.0</td>\n",
       "      <td>16.0</td>\n",
       "      <td>0.0</td>\n",
       "      <td>0.0</td>\n",
       "      <td>0.0</td>\n",
       "      <td>26.0</td>\n",
       "      <td>0.0</td>\n",
       "    </tr>\n",
       "    <tr>\n",
       "      <th>322</th>\n",
       "      <td>2020-11-17</td>\n",
       "      <td>554913</td>\n",
       "      <td>65.0</td>\n",
       "      <td>602.0</td>\n",
       "      <td>910.0</td>\n",
       "      <td>42.0</td>\n",
       "      <td>77.0</td>\n",
       "      <td>0.0</td>\n",
       "      <td>0.0</td>\n",
       "      <td>7895.0</td>\n",
       "      <td>...</td>\n",
       "      <td>201.0</td>\n",
       "      <td>0.0</td>\n",
       "      <td>0.0</td>\n",
       "      <td>387.0</td>\n",
       "      <td>2.0</td>\n",
       "      <td>0.0</td>\n",
       "      <td>0.0</td>\n",
       "      <td>0.0</td>\n",
       "      <td>64.0</td>\n",
       "      <td>111.0</td>\n",
       "    </tr>\n",
       "    <tr>\n",
       "      <th>323</th>\n",
       "      <td>2020-11-18</td>\n",
       "      <td>560504</td>\n",
       "      <td>383.0</td>\n",
       "      <td>694.0</td>\n",
       "      <td>1002.0</td>\n",
       "      <td>37.0</td>\n",
       "      <td>164.0</td>\n",
       "      <td>0.0</td>\n",
       "      <td>0.0</td>\n",
       "      <td>10634.0</td>\n",
       "      <td>...</td>\n",
       "      <td>204.0</td>\n",
       "      <td>0.0</td>\n",
       "      <td>0.0</td>\n",
       "      <td>311.0</td>\n",
       "      <td>5.0</td>\n",
       "      <td>0.0</td>\n",
       "      <td>0.0</td>\n",
       "      <td>0.0</td>\n",
       "      <td>56.0</td>\n",
       "      <td>48.0</td>\n",
       "    </tr>\n",
       "  </tbody>\n",
       "</table>\n",
       "<p>324 rows × 216 columns</p>\n",
       "</div>"
      ],
      "text/plain": [
       "           date   World  Afghanistan  Albania  Algeria  Andorra  Angola  \\\n",
       "0    2019-12-31      27          0.0      NaN      0.0      NaN     NaN   \n",
       "1    2020-01-01       0          0.0      NaN      0.0      NaN     NaN   \n",
       "2    2020-01-02       0          0.0      NaN      0.0      NaN     NaN   \n",
       "3    2020-01-03      17          0.0      NaN      0.0      NaN     NaN   \n",
       "4    2020-01-04       0          0.0      NaN      0.0      NaN     NaN   \n",
       "..          ...     ...          ...      ...      ...      ...     ...   \n",
       "319  2020-11-14  634423         66.0    490.0    867.0    109.0   104.0   \n",
       "320  2020-11-15  597736        205.0    532.0    844.0      0.0   171.0   \n",
       "321  2020-11-16  504453        163.0    597.0    860.0    147.0   146.0   \n",
       "322  2020-11-17  554913         65.0    602.0    910.0     42.0    77.0   \n",
       "323  2020-11-18  560504        383.0    694.0   1002.0     37.0   164.0   \n",
       "\n",
       "     Anguilla  Antigua and Barbuda  Argentina  ...  Uzbekistan  Vanuatu  \\\n",
       "0         NaN                  NaN        NaN  ...         NaN      NaN   \n",
       "1         NaN                  NaN        NaN  ...         NaN      NaN   \n",
       "2         NaN                  NaN        NaN  ...         NaN      NaN   \n",
       "3         NaN                  NaN        NaN  ...         NaN      NaN   \n",
       "4         NaN                  NaN        NaN  ...         NaN      NaN   \n",
       "..        ...                  ...        ...  ...         ...      ...   \n",
       "319       0.0                  2.0    11859.0  ...        63.0      0.0   \n",
       "320       0.0                  1.0     8468.0  ...         0.0      0.0   \n",
       "321       0.0                  0.0     5645.0  ...       563.0      0.0   \n",
       "322       0.0                  0.0     7895.0  ...       201.0      0.0   \n",
       "323       0.0                  0.0    10634.0  ...       204.0      0.0   \n",
       "\n",
       "     Vatican  Venezuela  Vietnam  Wallis and Futuna  Western Sahara  Yemen  \\\n",
       "0        NaN        NaN      0.0                NaN             NaN    NaN   \n",
       "1        NaN        NaN      0.0                NaN             NaN    NaN   \n",
       "2        NaN        NaN      0.0                NaN             NaN    NaN   \n",
       "3        NaN        NaN      0.0                NaN             NaN    NaN   \n",
       "4        NaN        NaN      0.0                NaN             NaN    NaN   \n",
       "..       ...        ...      ...                ...             ...    ...   \n",
       "319      0.0        0.0      3.0                0.0             0.0    2.0   \n",
       "320      0.0      301.0      9.0                0.0             0.0    0.0   \n",
       "321      0.0      911.0     16.0                0.0             0.0    0.0   \n",
       "322      0.0      387.0      2.0                0.0             0.0    0.0   \n",
       "323      0.0      311.0      5.0                0.0             0.0    0.0   \n",
       "\n",
       "     Zambia  Zimbabwe  \n",
       "0       NaN       NaN  \n",
       "1       NaN       NaN  \n",
       "2       NaN       NaN  \n",
       "3       NaN       NaN  \n",
       "4       NaN       NaN  \n",
       "..      ...       ...  \n",
       "319    57.0      69.0  \n",
       "320     4.0      21.0  \n",
       "321    26.0       0.0  \n",
       "322    64.0     111.0  \n",
       "323    56.0      48.0  \n",
       "\n",
       "[324 rows x 216 columns]"
      ]
     },
     "execution_count": 38,
     "metadata": {},
     "output_type": "execute_result"
    }
   ],
   "source": [
    "# Actualizar los datos (URL)\n",
    "url = 'https://covid.ourworldindata.org/data/ecdc/new_cases.csv'\n",
    "df = pd.read_csv(url)\n",
    "df"
   ]
  },
  {
   "cell_type": "markdown",
   "metadata": {},
   "source": [
    "Imprimos los resultados y agregamos el numero del dia\n"
   ]
  },
  {
   "cell_type": "code",
   "execution_count": 39,
   "metadata": {},
   "outputs": [
    {
     "data": {
      "text/html": [
       "<div>\n",
       "<style scoped>\n",
       "    .dataframe tbody tr th:only-of-type {\n",
       "        vertical-align: middle;\n",
       "    }\n",
       "\n",
       "    .dataframe tbody tr th {\n",
       "        vertical-align: top;\n",
       "    }\n",
       "\n",
       "    .dataframe thead th {\n",
       "        text-align: right;\n",
       "    }\n",
       "</style>\n",
       "<table border=\"1\" class=\"dataframe\">\n",
       "  <thead>\n",
       "    <tr style=\"text-align: right;\">\n",
       "      <th></th>\n",
       "      <th>date</th>\n",
       "      <th>Ecuador</th>\n",
       "    </tr>\n",
       "  </thead>\n",
       "  <tbody>\n",
       "    <tr>\n",
       "      <th>0</th>\n",
       "      <td>-1</td>\n",
       "      <td>0.0</td>\n",
       "    </tr>\n",
       "    <tr>\n",
       "      <th>1</th>\n",
       "      <td>0</td>\n",
       "      <td>0.0</td>\n",
       "    </tr>\n",
       "    <tr>\n",
       "      <th>2</th>\n",
       "      <td>1</td>\n",
       "      <td>0.0</td>\n",
       "    </tr>\n",
       "    <tr>\n",
       "      <th>3</th>\n",
       "      <td>2</td>\n",
       "      <td>0.0</td>\n",
       "    </tr>\n",
       "    <tr>\n",
       "      <th>4</th>\n",
       "      <td>3</td>\n",
       "      <td>0.0</td>\n",
       "    </tr>\n",
       "    <tr>\n",
       "      <th>...</th>\n",
       "      <td>...</td>\n",
       "      <td>...</td>\n",
       "    </tr>\n",
       "    <tr>\n",
       "      <th>319</th>\n",
       "      <td>318</td>\n",
       "      <td>1161.0</td>\n",
       "    </tr>\n",
       "    <tr>\n",
       "      <th>320</th>\n",
       "      <td>319</td>\n",
       "      <td>953.0</td>\n",
       "    </tr>\n",
       "    <tr>\n",
       "      <th>321</th>\n",
       "      <td>320</td>\n",
       "      <td>668.0</td>\n",
       "    </tr>\n",
       "    <tr>\n",
       "      <th>322</th>\n",
       "      <td>321</td>\n",
       "      <td>381.0</td>\n",
       "    </tr>\n",
       "    <tr>\n",
       "      <th>323</th>\n",
       "      <td>322</td>\n",
       "      <td>428.0</td>\n",
       "    </tr>\n",
       "  </tbody>\n",
       "</table>\n",
       "<p>324 rows × 2 columns</p>\n",
       "</div>"
      ],
      "text/plain": [
       "     date  Ecuador\n",
       "0      -1      0.0\n",
       "1       0      0.0\n",
       "2       1      0.0\n",
       "3       2      0.0\n",
       "4       3      0.0\n",
       "..    ...      ...\n",
       "319   318   1161.0\n",
       "320   319    953.0\n",
       "321   320    668.0\n",
       "322   321    381.0\n",
       "323   322    428.0\n",
       "\n",
       "[324 rows x 2 columns]"
      ]
     },
     "execution_count": 39,
     "metadata": {},
     "output_type": "execute_result"
    }
   ],
   "source": [
    "df = df.loc[:,['date','Ecuador']] #Selecciono las columnas de analasis\n",
    "# Expresar las fechas en numero de dias desde el 01 Enero\n",
    "FMT = '%Y-%m-%d'\n",
    "date = df['date']\n",
    "df['date'] = date.map(lambda x : (datetime.strptime(x, FMT) - datetime.strptime(\"2020-01-01\", FMT)).days)\n",
    "df"
   ]
  },
  {
   "cell_type": "code",
   "execution_count": 40,
   "metadata": {},
   "outputs": [
    {
     "data": {
      "text/plain": [
       "<matplotlib.axes._subplots.AxesSubplot at 0x25f5fe13188>"
      ]
     },
     "execution_count": 40,
     "metadata": {},
     "output_type": "execute_result"
    },
    {
     "data": {
      "image/png": "[encoded data removed]",
      "text/plain": [
       "<Figure size 432x288 with 1 Axes>"
      ]
     },
     "metadata": {
      "needs_background": "light"
     },
     "output_type": "display_data"
    }
   ],
   "source": [
    "df.plot(x ='date', y='Ecuador')"
   ]
  },
  {
   "cell_type": "markdown",
   "metadata": {},
   "source": [
    "Ahora podemos analizar un modelo probabilisto para el examen.\n",
    "\n",
    "## El modelo basado en probabilidad\n",
    "\n",
    "Para realizar un estimacion del factor de crecimiento de los casos de Covid 19 en Ecuador calculamos la mediana, con esto obtenemo el valor medio de crecimiento de un conjunto de datos, con esto podemos obtener un factor de crecimiento o taza de crecimiento de los nuevos casos.\n",
    "\n"
   ]
  },
  {
   "cell_type": "code",
   "execution_count": 41,
   "metadata": {},
   "outputs": [
    {
     "name": "stdout",
     "output_type": "stream",
     "text": [
      "663.0\n",
      "701.953488372093\n"
     ]
    }
   ],
   "source": [
    "filtro = df[\"Ecuador\"][61:] # Filtro los datos que se empezo a tener casos\n",
    "#Obtenemos la mediana\n",
    "media = filtro.mean()\n",
    "mediana = filtro.median()\n",
    "print(mediana)\n",
    "print(media)\n"
   ]
  },
  {
   "cell_type": "markdown",
   "metadata": {},
   "source": [
    "De la ecuación de la recta y = mX + b nuestra pendiente «m» es el coeficiente y el término independiente «b»\n"
   ]
  },
  {
   "cell_type": "code",
   "execution_count": 42,
   "metadata": {},
   "outputs": [
    {
     "name": "stdout",
     "output_type": "stream",
     "text": [
      "181767\n"
     ]
    }
   ],
   "source": [
    "#Vamos a comprobar:\n",
    "# según la media y la mediana podemos obtener la taza de crecieminto y predicir su comportamiento.\n",
    "# Cargamos los datos de total de casos\n",
    "url = 'https://covid.ourworldindata.org/data/ecdc/total_cases.csv'\n",
    "df_t = pd.read_csv(url)\n",
    "FMT = '%Y-%m-%d'\n",
    "date = df_t['date']\n",
    "df_t['date'] = date.map(lambda x : (datetime.strptime(x, FMT) - datetime.strptime(\"2020-01-01\", FMT)).days)\n",
    "df_t = df_t.loc[:,['date','Ecuador']] #Selecciono las columnas de analasis\n",
    "y = list(df_t.iloc [:, 1]) # Total casos\n",
    "x = list(df_t.iloc [:, 0]) # Dias\n",
    "#Realizamos un ejemplo de prediccion\n",
    "prediccion_siguiente = int(y[-1] + mediana)\n",
    "print(prediccion_siguiente)"
   ]
  },
  {
   "cell_type": "code",
   "execution_count": 43,
   "metadata": {},
   "outputs": [
    {
     "data": {
      "image/png": "[encoded data removed]",
      "text/plain": [
       "<Figure size 432x288 with 1 Axes>"
      ]
     },
     "metadata": {
      "needs_background": "light"
     },
     "output_type": "display_data"
    }
   ],
   "source": [
    "# Quiero predecir cuántos \"Casos\" voy a obtener de aqui a 10 dias.\n",
    "for i in range(x[-1], x[-1]-7):\n",
    "    x.append(i)\n",
    "    y.append(int(y[-1] + mediana))\n",
    "probabilistico=y[319]\n",
    "plt.plot(x[61:], y[61:])\n",
    "plt.show()"
   ]
  },
  {
   "cell_type": "markdown",
   "metadata": {},
   "source": [
    "# Practica\n",
    "\n",
    "1. Comparar el modelo de predicion matematico vs probabilidad.\n",
    "2. Retroceder un semana y comparar el modelo matematico vs probabilidad vs reales. Solo cargan los datos para generar los modelos menos 7 dias.\n",
    "\n",
    "Puntos extras: Investigas sobre la correlacion de variables y aplicar el calculo en base a los datos del Ecuador."
   ]
  },
  {
   "cell_type": "markdown",
   "metadata": {},
   "source": [
    "# Implementar\n",
    "#### 1. Comparar el modelo de predicion matematico vs probabilidad."
   ]
  },
  {
   "cell_type": "code",
   "execution_count": 44,
   "metadata": {},
   "outputs": [
    {
     "data": {
      "image/png": "[encoded data removed]",
      "text/plain": [
       "<Figure size 432x288 with 1 Axes>"
      ]
     },
     "metadata": {
      "needs_background": "light"
     },
     "output_type": "display_data"
    }
   ],
   "source": [
    "from sklearn.preprocessing import PolynomialFeatures\n",
    "\n",
    "x = list(df_t.iloc[:, 0]) \n",
    "y = list(df_t.iloc [:, 1]) \n",
    "\n",
    "y= np.nan_to_num(y)\n",
    "x=np.array(x).reshape(-1,1)\n",
    "y=np.array(y).reshape(-1,1)\n",
    "poly = PolynomialFeatures(degree=5, include_bias=False)\n",
    "x_poly = poly.fit_transform(x)\n",
    "\n",
    "model = linear_model.LinearRegression()\n",
    "\n",
    "model.fit(x_poly, y)\n",
    "y_pred = model.predict(x_poly)\n",
    "y_pred = y_pred-7\n",
    "plt.title('Casos de infectados de COVID-19 Ecuador')\n",
    "plt.scatter(x, y)\n",
    "plt.plot(x, y_pred, color='r',lw=4)\n",
    "plt.grid(True)\n",
    "plt.xlabel('DIAS')\n",
    "plt.ylabel('NÚMERO DE CASOS')\n",
    "plt.show()"
   ]
  },
  {
   "cell_type": "markdown",
   "metadata": {},
   "source": [
    "Al comparar el modelo matemático con el probabilístico, el modelo que mejor se ajusta es el Polinomial ya que es muy similar a la Regresión lineal pero con una ligera desviación en la forma en que tratamos nuestro espacio."
   ]
  },
  {
   "cell_type": "markdown",
   "metadata": {},
   "source": [
    "#### 2. Retroceder un semana y comparar el modelo matematico vs probabilidad vs reales. Solo cargan los datos para generar los modelos menos 7 dias."
   ]
  },
  {
   "cell_type": "code",
   "execution_count": 45,
   "metadata": {},
   "outputs": [
    {
     "name": "stdout",
     "output_type": "stream",
     "text": [
      "Número de casos hace 7 días:  178667.0\n"
     ]
    }
   ],
   "source": [
    "#Implementar\n",
    "#--- El modelo basado en probabilidad ---\n",
    "probabilistico=probabilistico-7\n",
    "print('Casos hace 7 días: ',np.round(valorProbabilistico,1))"
   ]
  },
  {
   "cell_type": "code",
   "execution_count": 46,
   "metadata": {},
   "outputs": [
    {
     "name": "stdout",
     "output_type": "stream",
     "text": [
      "Casos hace 7 días: [172142.]\n"
     ]
    }
   ],
   "source": [
    "# Modelo Logistico\n",
    "logistico=y_pred[319-7]\n",
    "print('Casos hace 7 días:',np.round(logistico,0))"
   ]
  },
  {
   "cell_type": "markdown",
   "metadata": {},
   "source": [
    "####  > Puntos extras: Investigas sobre la correlacion de variables y aplicar el calculo en base a los datos del Ecuador."
   ]
  },
  {
   "cell_type": "code",
   "execution_count": 52,
   "metadata": {},
   "outputs": [
    {
     "data": {
      "text/plain": [
       "<matplotlib.axes._subplots.AxesSubplot at 0x25f61363088>"
      ]
     },
     "execution_count": 52,
     "metadata": {},
     "output_type": "execute_result"
    },
    {
     "data": {
      "image/png": "[encoded data removed]",
      "text/plain": [
       "<Figure size 432x288 with 2 Axes>"
      ]
     },
     "metadata": {
      "needs_background": "light"
     },
     "output_type": "display_data"
    }
   ],
   "source": [
    "import seaborn as sns\n",
    "corr = df_t.corr()\n",
    "sns.heatmap(corr, \n",
    "               xticklabels=corr.columns.values,\n",
    "               yticklabels=corr.columns.values)"
   ]
  },
  {
   "cell_type": "markdown",
   "metadata": {},
   "source": [
    "## Analisis\n",
    "La regresión polinomial es una forma de regresión lineal en la que la relación entre la variable independiente x y la variable dependiente y es modelada como un polinomio de grado n en x.\n",
    "\n",
    "## Conclusiones\n",
    "Se realizo la comparación en donde se puede ver que la regresión polinomial es la mejor opción para demostrar los casos del COVID – 19 \n",
    "\n",
    "## Criterio personal (politico, economico y  social de la situacion)\n",
    "\n",
    "Se debe tener presente las medidas de prevención contra el virus ya que así podremos evitar que se aumente los contagios en el país.  \n",
    "\n",
    "Este virus ha afectado a varias empresas ya que por evitar el contagio deben cerrarse la cual, tambien en algunas empresas despedían a empleados por lo que estaba en stop el negocio y no generaban ingresos. El país presente grandes desequilibrios en dinero ya que por las restricciones se tiene una diferente manera de trabajar\n",
    "\n",
    "Mediante este análisis podemos ver en qué estado se encuentra el país por lo que debemos seguir con las medidas de prevención contra el COVID-19 para así evitar contagios ya que en las gráficas se puede observar altos índices de casos nuevos y de numerosas muertes en el Ecuador.\n"
   ]
  },
  {
   "cell_type": "markdown",
   "metadata": {},
   "source": [
    "# Referencias\n",
    "\n",
    "- https://www.researchgate.net/publication/340092755_Infeccion_del_Covid-19_en_Colombia_Una_comparacion_de_modelos_logisticos_y_exponenciales_aplicados_a_la_infeccion_por_el_virus_en_Colombia\n",
    "\n",
    "- https://www.aprendemachinelearning.com/regresion-lineal-en-espanol-con-python/"
   ]
  }
 ],
 "metadata": {
  "kernelspec": {
   "display_name": "Python 3",
   "language": "python",
   "name": "python3"
  },
  "language_info": {
   "codemirror_mode": {
    "name": "ipython",
    "version": 3
   },
   "file_extension": ".py",
   "mimetype": "text/x-python",
   "name": "python",
   "nbconvert_exporter": "python",
   "pygments_lexer": "ipython3",
   "version": "3.7.6"
  }
 },
 "nbformat": 4,
 "nbformat_minor": 2
}
