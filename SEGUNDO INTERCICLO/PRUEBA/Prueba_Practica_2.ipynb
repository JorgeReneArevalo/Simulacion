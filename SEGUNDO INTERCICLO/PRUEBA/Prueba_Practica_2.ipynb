{
 "cells": [
  {
   "cell_type": "markdown",
   "metadata": {},
   "source": [
    "# Nombre: Jorge Arévalo\n",
    "# Docente: Ing. Diego Quisi\n",
    "# Materia: Simulación\n",
    "\n",
    "# Prueba Práctica"
   ]
  },
  {
   "cell_type": "code",
   "execution_count": 57,
   "metadata": {},
   "outputs": [],
   "source": [
    "import numpy as np\n",
    "import math as mt\n",
    "import matplotlib.pyplot as plt"
   ]
  },
  {
   "cell_type": "code",
   "execution_count": 58,
   "metadata": {},
   "outputs": [],
   "source": [
    "def metodoCongruenciaLineal(datox, a, c, mod, iteracion):\n",
    "    num = 0.00\n",
    "    arreglo =[]\n",
    "    for i in range(iteracion):\n",
    "        datox = (a * datox + c) % mod\n",
    "        num = round(datox/mod,2)\n",
    "        arreglo.append(num)\n",
    "    return arreglo"
   ]
  },
  {
   "cell_type": "code",
   "execution_count": 59,
   "metadata": {},
   "outputs": [],
   "source": [
    "def obtenerPos(digs):\n",
    "    dato1 =0\n",
    "    dato2 =0\n",
    "    if digs%2 !=0:\n",
    "        dato1 = int(digs/2)\n",
    "        dato2 = int(digs/2)+1\n",
    "    else:\n",
    "        dato1 = int(digs/2)\n",
    "        dato2 = dato1\n",
    "    return dato1,dato2"
   ]
  },
  {
   "cell_type": "code",
   "execution_count": 60,
   "metadata": {},
   "outputs": [],
   "source": [
    "def metodoCuadradosMedios(iteracion, val, digs):\n",
    "    arreglo =[]\n",
    "    x0_semilla = int(val)\n",
    "    aum = obtenerPos(digs)\n",
    "    for i in range(iteracion):\n",
    "        xn2= x0_semilla**2\n",
    "        lon = len(str(xn2))\n",
    "        ui = str(xn2)[int(lon/2)-aum[0]:int(lon/2)+aum[1]]\n",
    "        rn = round(int(ui)/10**digs,2)\n",
    "        #print(i, \" \", x0_semilla,\" \",xn2, \" \", lon, \" \",ui, \" \", rn)\n",
    "        arreglo.append(rn)\n",
    "        x0_semilla=int(ui)\n",
    "    #print(\"   \")\n",
    "    return arreglo\n",
    "iteracion = 100\n",
    "digs = 7\n",
    "arreglo = metodoCuadradosMedios(iteracion, 74731897457, digs)"
   ]
  },
  {
   "cell_type": "code",
   "execution_count": 61,
   "metadata": {},
   "outputs": [],
   "source": [
    "def metodoLista(num_grupos, aumento, arreglo):\n",
    "    grupos = []\n",
    "    ini=0.00\n",
    "    for i in range(num_grupos+1):\n",
    "        grupos.append(round(ini,2))\n",
    "        ini=ini+aumento\n",
    "    a=0\n",
    "    b=1\n",
    "    rangos={}\n",
    "    for i in range(len(grupos)-1):\n",
    "        inf=grupos[a]\n",
    "        sup=grupos[b]\n",
    "        rangos.update({str(inf)+\",\" +str(sup):[]})\n",
    "        for i in arreglo:\n",
    "            if i==0.00:\n",
    "                if i >=inf and i <=sup:\n",
    "                    rangos[str(inf)+\",\"+str(sup)].append(i)\n",
    "            else:\n",
    "                if i >inf and i <=sup:\n",
    "                    rangos[str(inf)+\",\"+str(sup)].append(i)\n",
    "        a=b\n",
    "        b=a+1\n",
    "    return rangos"
   ]
  },
  {
   "cell_type": "code",
   "execution_count": 62,
   "metadata": {},
   "outputs": [],
   "source": [
    "def metodoChi_Cuadrado(arreglo, valor):\n",
    "    n = int(mt.sqrt(len(arreglo)))\n",
    "    dic = metodoLista(n,1/n, arreglo)\n",
    "    suma = 0.00\n",
    "    print(\" Intervalo \", \"      Ei \", \"       Oi \", \" (Oi-Ei)**2/Ei\")\n",
    "    for datox, it in enumerate(dic.items()):\n",
    "        f = ((len(it[1])-n)**2)/n\n",
    "        suma+=f\n",
    "        print(datox, \"         \", str(n)+\"(\"+it[0]+\")     \", len(it[1]),\"     \", f) \n",
    "    print(\"\")\n",
    "    print(\"Valor Chi-Cuadrado Cuadrados Medios: \",suma)\n",
    "    if suma< valor:\n",
    "        return True\n",
    "    else:\n",
    "        return False\n",
    "def metodoChi_Congruencia(arreglo, valor):\n",
    "    n = int(mt.sqrt(len(arreglo)))\n",
    "    dic = metodoLista(n,1/n, arreglo)\n",
    "    suma = 0.00\n",
    "    print(\" Intervalo \", \"      Ei \", \"       Oi \", \" (Oi-Ei)**2/Ei\")\n",
    "    for datox, it in enumerate(dic.items()):\n",
    "        f = ((len(it[1])-n)**2)/n\n",
    "        suma+=f\n",
    "        print(datox, \"         \", str(n)+\"(\"+it[0]+\")     \", len(it[1]),\"     \", f) \n",
    "    print(\"\")\n",
    "    print(\"Valor Chi-Cuadrado Congruencia Lineal: \",suma)\n",
    "    if suma< valor:\n",
    "        return True\n",
    "    else:\n",
    "        return False"
   ]
  },
  {
   "cell_type": "markdown",
   "metadata": {},
   "source": [
    "# METODO CUADRADOS MEDIOS"
   ]
  },
  {
   "cell_type": "code",
   "execution_count": 63,
   "metadata": {},
   "outputs": [
    {
     "name": "stdout",
     "output_type": "stream",
     "text": [
      " Intervalo        Ei         Oi   (Oi-Ei)**2/Ei\n",
      "0           10(0.0,0.1)      11       0.1\n",
      "1           10(0.1,0.2)      18       6.4\n",
      "2           10(0.2,0.3)      12       0.4\n",
      "3           10(0.3,0.4)      7       0.9\n",
      "4           10(0.4,0.5)      13       0.9\n",
      "5           10(0.5,0.6)      9       0.1\n",
      "6           10(0.6,0.7)      7       0.9\n",
      "7           10(0.7,0.8)      5       2.5\n",
      "8           10(0.8,0.9)      8       0.4\n",
      "9           10(0.9,1.0)      10       0.0\n",
      "\n",
      "Valor Chi-Cuadrado Cuadrados Medios:  12.600000000000001\n",
      " \n",
      "Frecuencia:  [0.98, 0.84, 0.11, 0.22, 0.38, 0.17, 0.93, 0.41, 0.03, 0.68, 0.35, 0.35, 0.76, 0.41, 0.04, 0.11, 0.17, 0.23, 0.82, 0.7, 0.17, 0.48, 0.4, 0.24, 0.43, 0.65, 0.2, 0.71, 0.88, 0.93, 0.94, 0.13, 0.56, 0.55, 0.58, 0.18, 0.51, 0.52, 0.05, 0.97, 0.23, 0.23, 0.29, 0.5, 0.12, 0.97, 0.31, 0.16, 0.41, 0.76, 0.26, 0.63, 0.95, 0.1, 0.25, 0.88, 0.71, 0.16, 0.52, 0.38, 0.22, 0.0, 0.58, 0.55, 0.87, 0.0, 0.01, 0.2, 0.91, 0.44, 0.16, 0.5, 0.45, 0.81, 0.27, 0.19, 0.32, 0.14, 0.51, 0.1, 0.1, 0.48, 0.13, 0.24, 0.01, 0.19, 0.13, 0.84, 0.28, 0.65, 0.42, 0.72, 0.61, 0.92, 0.46, 0.96, 0.65, 0.0, 0.47, 0.87]\n"
     ]
    }
   ],
   "source": [
    "valor = 16.9\n",
    "iteracion = 100\n",
    "digs = 7\n",
    "arreglo = metodoCuadradosMedios(iteracion, 74731897457, digs)\n",
    "res=metodoChi_Cuadrado(arreglo,valor)\n",
    "print(\" \")\n",
    "print(\"Frecuencia: \", arreglo) "
   ]
  },
  {
   "cell_type": "markdown",
   "metadata": {},
   "source": [
    "### HISTOGRAMA CUADRADOS MEDIOS"
   ]
  },
  {
   "cell_type": "code",
   "execution_count": 64,
   "metadata": {},
   "outputs": [
    {
     "name": "stdout",
     "output_type": "stream",
     "text": [
      "HISTOGRAMA CUADRADOS MEDIOS\n"
     ]
    },
    {
     "data": {
      "image/png": "[encoded data removed]",
      "text/plain": [
       "<Figure size 720x720 with 1 Axes>"
      ]
     },
     "metadata": {
      "needs_background": "light"
     },
     "output_type": "display_data"
    }
   ],
   "source": [
    "#HISTOGRAMA CUADRADOS MEDIOS\n",
    "print(\"HISTOGRAMA CUADRADOS MEDIOS\")\n",
    "plt.hist(arreglo)\n",
    "plt.ylabel('frequencia')\n",
    "plt.xlabel('valores')\n",
    "plt.title('Histograma Chi-Cuadrado')\n",
    "plt.show()"
   ]
  },
  {
   "cell_type": "markdown",
   "metadata": {},
   "source": [
    "# METODO DE CONGRUENCIA LINEAL"
   ]
  },
  {
   "cell_type": "code",
   "execution_count": 65,
   "metadata": {},
   "outputs": [
    {
     "name": "stdout",
     "output_type": "stream",
     "text": [
      " Intervalo        Ei         Oi   (Oi-Ei)**2/Ei\n",
      "0           10(0.0,0.1)      11       0.1\n",
      "1           10(0.1,0.2)      11       0.1\n",
      "2           10(0.2,0.3)      0       10.0\n",
      "3           10(0.3,0.4)      22       14.4\n",
      "4           10(0.4,0.5)      0       10.0\n",
      "5           10(0.5,0.6)      0       10.0\n",
      "6           10(0.6,0.7)      11       0.1\n",
      "7           10(0.7,0.8)      11       0.1\n",
      "8           10(0.8,0.9)      23       16.9\n",
      "9           10(0.9,1.0)      11       0.1\n",
      "\n",
      "Valor Chi-Cuadrado Congruencia Lineal:  61.800000000000004\n"
     ]
    }
   ],
   "source": [
    "datox = 7\n",
    "a = 74731897457\n",
    "c = 37747318974\n",
    "m = 19\n",
    "arreglo2 = metodoCongruenciaLineal(datox,a,c,m,iteracion)\n",
    "res2 = metodoChi_Congruencia(arreglo2,valor)"
   ]
  },
  {
   "cell_type": "markdown",
   "metadata": {},
   "source": [
    "### HISTOGRAMA CONGRUENCIA LINEAL"
   ]
  },
  {
   "cell_type": "code",
   "execution_count": 66,
   "metadata": {},
   "outputs": [
    {
     "name": "stdout",
     "output_type": "stream",
     "text": [
      "HISTOGRAMA CONGRUENCIA LINEAL\n"
     ]
    },
    {
     "data": {
      "image/png": "[encoded data removed]",
      "text/plain": [
       "<Figure size 720x720 with 1 Axes>"
      ]
     },
     "metadata": {
      "needs_background": "light"
     },
     "output_type": "display_data"
    }
   ],
   "source": [
    "#HISTOGRAMA CONGRUENCIA LINEAL\n",
    "print(\"HISTOGRAMA CONGRUENCIA LINEAL\")\n",
    "plt.hist(arreglo2)\n",
    "plt.ylabel('frequencia')\n",
    "plt.xlabel('valores')\n",
    "plt.title('Histograma Chi-Cuadrado')\n",
    "plt.show()"
   ]
  },
  {
   "cell_type": "markdown",
   "metadata": {},
   "source": [
    "# Comparación "
   ]
  },
  {
   "cell_type": "code",
   "execution_count": 67,
   "metadata": {},
   "outputs": [
    {
     "data": {
      "image/png": "[encoded data removed]",
      "text/plain": [
       "<Figure size 720x720 with 1 Axes>"
      ]
     },
     "metadata": {
      "needs_background": "light"
     },
     "output_type": "display_data"
    }
   ],
   "source": [
    "plt.hist(arreglo,color='blue',label='Cuadrados Medios')\n",
    "plt.hist(arreglo2,color='Green',label='Congruencia Lineal')\n",
    "plt.xlabel('Rango Números')\n",
    "plt.ylabel('Frecuencia')\n",
    "plt.title('Histograma Chi-Cuadrado')\n",
    "plt.legend(loc='upper left')\n",
    "plt.show()"
   ]
  },
  {
   "cell_type": "markdown",
   "metadata": {},
   "source": [
    "# Conclusión"
   ]
  },
  {
   "cell_type": "markdown",
   "metadata": {},
   "source": [
    "El mejor metodo que presenta es el de los Cuadrados Medios ya que genera numeros aleatorios adecuados para realizar la práctica.\n",
    "\n",
    "Tenemos el valor de:\n",
    "\n",
    "**Chi-Cuadrado Cuadrados Medios: 12.6**\n",
    "\n",
    "**Chi-Cuadrado Congruencia Lineal: 61.8**"
   ]
  },
  {
   "cell_type": "code",
   "execution_count": null,
   "metadata": {},
   "outputs": [],
   "source": []
  }
 ],
 "metadata": {
  "kernelspec": {
   "display_name": "Python 3",
   "language": "python",
   "name": "python3"
  },
  "language_info": {
   "codemirror_mode": {
    "name": "ipython",
    "version": 3
   },
   "file_extension": ".py",
   "mimetype": "text/x-python",
   "name": "python",
   "nbconvert_exporter": "python",
   "pygments_lexer": "ipython3",
   "version": "3.7.6"
  }
 },
 "nbformat": 4,
 "nbformat_minor": 4
}
