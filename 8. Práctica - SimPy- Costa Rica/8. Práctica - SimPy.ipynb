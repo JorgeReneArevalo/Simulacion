{
 "cells": [
  {
   "cell_type": "markdown",
   "metadata": {},
   "source": [
    "### Nombre: Jorge Arévalo\n",
    "### Docente: Ing. Diego Quisi\n",
    "### Materia: Simulación\n",
    "\n",
    "\n",
    "# País: Costa Rica"
   ]
  },
  {
   "cell_type": "markdown",
   "metadata": {},
   "source": [
    "### Investigar el proceso de atención de un paciente diagnosticado con COVID-19, además de tiempos de atención, recursos necesarios y tipos de pacientes."
   ]
  },
  {
   "cell_type": "markdown",
   "metadata": {},
   "source": [
    "El proceso es un método sistemático, cíclico y racional para planificar y prestar cuidados de enfermería al paciente de forma integral e individualizada con sustento técnico.\n",
    "\n",
    "Es necesario e indispensable que de forma paralela se cumpla un proceso de descarte de otro tipo de patologías respiratorias como: Influenza, parainfluenza, adenovirus, virus sincital respiratorio, metapneumovirus.\n",
    "\n",
    "Se debe obtener las muestras que deben ser recolectadas por personal capacitado y teniendo en cuenta todas las instrucciones de bioseguridad y el equipo de protección personal apropiado para virus respiratorios. \n",
    "\n",
    "El triaje clínico que incluye el reconocimiento temprano y la colocación inmediata de pacientes en un área separada de otros pacientes (control de fuente) es una medida esencial para la identificación rápida, el aislamiento y la atención adecuada de pacientes con sospecha de infección por COVID-19. "
   ]
  },
  {
   "cell_type": "markdown",
   "metadata": {},
   "source": [
    "### Investigar en cada una de las provincias asignadas el número de hospitales, camas, respiradores y personal médico, limpieza y enfermería."
   ]
  },
  {
   "cell_type": "markdown",
   "metadata": {},
   "source": [
    "**Número de hospitales**\n",
    "\n",
    "Disponible y cualificada, pero insuficiente para la demanda. Hospitales de segundo nivel: 20 clínicas , 13 hospitales periféricos y 7 hospitales regionales. Tercer nivel: 3 hospitales nacionales generales y 5 especializados Sector privado: Cualificado\n",
    "\n",
    "**Camas**\n",
    "\n",
    "Tiene un promedio de 1,1 cama hospitalaria por cada 100.000 habitantes. A nivel nacional, se contabilizan 5.400 camas, de las cuales el 60% se utiliza para pacientes que han ingresado por urgencias, infartos, accidentes de tránsito, accidentes cerebrovasculares, entre otros.\n",
    "\n",
    "**Respiradores**\n",
    "\n",
    "Cuenta con 450 respiradores artificiales y busca aumentar su capacidad de atención para atender un mayor número de casos de coronavirus (COVID-19).\n",
    "\n",
    "**Personal méidico**\n",
    "\n",
    "22 800 médicos por cada 10 000 habitantes.\n",
    "\n",
    "**Limpieza**\n",
    "\n",
    "5.200 personas que están encargadas de la limpieza\n",
    "\n",
    "\n",
    "**Enfermería**\n",
    "\n",
    "24 400 enfermeras por cada 10 000 habitantes."
   ]
  },
  {
   "cell_type": "markdown",
   "metadata": {},
   "source": [
    "### Finalmente el costo de atender a un paciente con COVID-19 y medicamentos"
   ]
  },
  {
   "cell_type": "markdown",
   "metadata": {},
   "source": [
    "Costo de antender a un paciente\n",
    "El 16% requirió atención en camas de cuidado intensivo que implica equipos y personal especializado, con un costo de ¢1,5 millones diarios; costo de paciente en salón es de ¢500.000 por día\n",
    "\n",
    "**Medicamentos**\n",
    "\n",
    "Un medicamento desarrollado con anticuerpos obtenidos de caballos inoculados con el nuevo coronavirus es la carta de esperanza que manejan científicos y autoridades sanitarias de Costa Rica para tratar a miles de pacientes en los países centroamericanos afectados por la pandemia del coronavirus.\n",
    "\n",
    "El suero producido por el Instituto Clodomiro Picado (ICP), perteneciente a la estatal Universidad de Costa Rica (UCR), entra la próxima semana a fase de pruebas en 26 pacientes y se acerca a la etapa de aplicarse de manera masiva, dijo a Reuters Román Macaya, presidente de la Caja del Seguro Social (CCSS) que administra la red de centros de salud públicos."
   ]
  },
  {
   "cell_type": "markdown",
   "metadata": {},
   "source": [
    "Referencia:\n",
    "\n",
    "http://fundacionio.org/viajar/paises/america/costa%20rica%20condiciones.html\n",
    "\n",
    "\n",
    "https://www.nacion.com/el-pais/salud/covid-19-ha-enviado-a-5000-personas-al-hospital/GEX5DDYVH5GNZM5CH5RNFBFWMQ/story/\n",
    "\n",
    "\n",
    "https://observador.cr/la-ccss-dispone-de-227-camas-en-unidades-de-cuidados-intensivos-en-todo-el-pais/#:~:text=La%20CCSS%20tiene%20un%20promedio,%2C%20accidentes%20cerebrovasculares%2C%20entre%20otros.\n",
    "\n",
    "https://www.paho.org/salud-en-las-americas-2017/?page_t_es=informes%20de%20pais/costa-rica&lang=es\n",
    "\n",
    "https://es.reuters.com/article/salud-coronavirus-costarica-idESKBN25X0FZ\n"
   ]
  }
 ],
 "metadata": {
  "kernelspec": {
   "display_name": "Python 3",
   "language": "python",
   "name": "python3"
  },
  "language_info": {
   "codemirror_mode": {
    "name": "ipython",
    "version": 3
   },
   "file_extension": ".py",
   "mimetype": "text/x-python",
   "name": "python",
   "nbconvert_exporter": "python",
   "pygments_lexer": "ipython3",
   "version": "3.7.6"
  }
 },
 "nbformat": 4,
 "nbformat_minor": 4
}
